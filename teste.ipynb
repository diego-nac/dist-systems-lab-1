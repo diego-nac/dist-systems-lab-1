{
 "cells": [
  {
   "cell_type": "code",
   "execution_count": 44,
   "metadata": {},
   "outputs": [],
   "source": [
    "from utils.LoggerConfig import LoggerConfig"
   ]
  },
  {
   "cell_type": "code",
   "execution_count": 45,
   "metadata": {},
   "outputs": [],
   "source": [
    "logger_config = LoggerConfig('SystemsDevices')\n",
    "logger_config.setup_logger()\n",
    "logger = logger_config.get_logger()"
   ]
  },
  {
   "cell_type": "code",
   "execution_count": 46,
   "metadata": {},
   "outputs": [
    {
     "name": "stdout",
     "output_type": "stream",
     "text": [
      "2025-01-09 21:29:01 (INFO) SYSTEMSDEVICES/4200010058 - SystemsDevices\n",
      "2025-01-09 21:29:01 (INFO) SYSTEMSDEVICES/4200010058 - SystemsDevices\n",
      "2025-01-09 21:29:01 (INFO) SYSTEMSDEVICES/4200010058 - SystemsDevices\n",
      "2025-01-09 21:29:01 (INFO) SYSTEMSDEVICES/4200010058 - SystemsDevices\n",
      "2025-01-09 21:29:01 (INFO) SYSTEMSDEVICES/4200010058 - SystemsDevices\n",
      "2025-01-09 21:29:01 (INFO) SYSTEMSDEVICES/4200010058 - SystemsDevices\n"
     ]
    }
   ],
   "source": [
    "logger.info('SystemsDevices')"
   ]
  },
  {
   "cell_type": "code",
   "execution_count": 47,
   "metadata": {},
   "outputs": [],
   "source": [
    "from smart_devices.abstract.SmartDevice import SmartDevice"
   ]
  },
  {
   "cell_type": "code",
   "execution_count": 48,
   "metadata": {},
   "outputs": [],
   "source": [
    "class Teste(SmartDevice):\n",
    "    def __init__(self, device_id, device_name, device_type, initial_state, device_ip, device_port):\n",
    "        super().__init__(device_id, device_name, 'Teste', initial_state, device_ip, device_port)\n",
    "    def get_status(self):\n",
    "        return super().get_status()\n",
    "    def process_command(self, command):\n",
    "        if command == 'on':\n",
    "            self.set_status(True)\n",
    "    def set_state(self, state):\n",
    "        self._state = state\n",
    "        return self._state\n",
    "    def get_state(self):\n",
    "        return self._state"
   ]
  },
  {
   "cell_type": "code",
   "execution_count": 49,
   "metadata": {},
   "outputs": [],
   "source": [
    "\n",
    "MCAST_GROUP = '224.0.0.1'  \n",
    "MCAST_PORT = 5000          \n",
    "\n",
    "teste = Teste('teste', 'Teste', 'Teste', True, MCAST_GROUP, MCAST_PORT)"
   ]
  },
  {
   "cell_type": "code",
   "execution_count": 50,
   "metadata": {},
   "outputs": [
    {
     "data": {
      "text/plain": [
       "True"
      ]
     },
     "execution_count": 50,
     "metadata": {},
     "output_type": "execute_result"
    }
   ],
   "source": [
    "teste.get_state()"
   ]
  }
 ],
 "metadata": {
  "kernelspec": {
   "display_name": "Python 3",
   "language": "python",
   "name": "python3"
  },
  "language_info": {
   "codemirror_mode": {
    "name": "ipython",
    "version": 3
   },
   "file_extension": ".py",
   "mimetype": "text/x-python",
   "name": "python",
   "nbconvert_exporter": "python",
   "pygments_lexer": "ipython3",
   "version": "3.10.0"
  }
 },
 "nbformat": 4,
 "nbformat_minor": 2
}
