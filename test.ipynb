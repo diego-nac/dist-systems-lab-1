{
 "cells": [
  {
   "cell_type": "code",
   "execution_count": 5,
   "metadata": {},
   "outputs": [],
   "source": [
    "import socket\n",
    "import smart_devices.proto.smart_devices_pb2 as proto  # Arquivo gerado a partir do Protobuf\n",
    "from utils.configs import *  # Configurações compartilhadas\n",
    "\n",
    "\n",
    "def change_device_state(device_ip, device_port, command, device_id=None, luminosity=None):\n",
    "    try:\n",
    "        with socket.socket(socket.AF_INET, socket.SOCK_STREAM) as client_socket:\n",
    "            print(f\"Conectando ao dispositivo {device_ip}:{device_port}\")\n",
    "            client_socket.connect((device_ip, device_port))\n",
    "\n",
    "            device_command = proto.DeviceCommand()\n",
    "            device_command.command = command\n",
    "            if device_id:\n",
    "                device_command.device_id = device_id\n",
    "            if luminosity is not None:\n",
    "                device_command.luminosity = luminosity\n",
    "\n",
    "            print(f\"Enviando comando: {command}\")\n",
    "            client_socket.sendall(device_command.SerializeToString())\n",
    "\n",
    "            response = client_socket.recv(1024)\n",
    "            command_response = proto.CommandResponse()\n",
    "            command_response.ParseFromString(response)\n",
    "\n",
    "            print(f\"Resposta do dispositivo: {command_response.message}\")\n",
    "\n",
    "    except Exception as e:\n",
    "        print(f\"Erro ao enviar comando para {device_ip}:{device_port}: {e}\")"
   ]
  },
  {
   "cell_type": "code",
   "execution_count": 13,
   "metadata": {},
   "outputs": [
    {
     "name": "stdout",
     "output_type": "stream",
     "text": [
      "Conectando ao dispositivo 192.168.18.179:5006\n",
      "Enviando comando: desligar\n",
      "Resposta do dispositivo: Lâmpada Living Room Lamp agora está DESLIGADA.\n"
     ]
    }
   ],
   "source": [
    "change_device_state('192.168.18.179', 5006, 'desligar')\n",
    " "
   ]
  },
  {
   "cell_type": "code",
   "execution_count": 7,
   "metadata": {},
   "outputs": [
    {
     "data": {
      "text/plain": [
       "0.56"
      ]
     },
     "execution_count": 7,
     "metadata": {},
     "output_type": "execute_result"
    }
   ],
   "source": [
    "round(0.5555,2)"
   ]
  },
  {
   "cell_type": "code",
   "execution_count": 8,
   "metadata": {},
   "outputs": [
    {
     "data": {
      "text/plain": [
       "'192.168.18.179'"
      ]
     },
     "execution_count": 8,
     "metadata": {},
     "output_type": "execute_result"
    }
   ],
   "source": [
    "get_local_ip()"
   ]
  },
  {
   "cell_type": "code",
   "execution_count": 9,
   "metadata": {},
   "outputs": [
    {
     "ename": "NameError",
     "evalue": "name 'DEVICES_IP' is not defined",
     "output_type": "error",
     "traceback": [
      "\u001b[1;31m---------------------------------------------------------------------------\u001b[0m",
      "\u001b[1;31mNameError\u001b[0m                                 Traceback (most recent call last)",
      "Cell \u001b[1;32mIn[9], line 1\u001b[0m\n\u001b[1;32m----> 1\u001b[0m \u001b[43mDEVICES_IP\u001b[49m\n",
      "\u001b[1;31mNameError\u001b[0m: name 'DEVICES_IP' is not defined"
     ]
    }
   ],
   "source": [
    "DEVICES_IP"
   ]
  }
 ],
 "metadata": {
  "kernelspec": {
   "display_name": "Python 3",
   "language": "python",
   "name": "python3"
  },
  "language_info": {
   "codemirror_mode": {
    "name": "ipython",
    "version": 3
   },
   "file_extension": ".py",
   "mimetype": "text/x-python",
   "name": "python",
   "nbconvert_exporter": "python",
   "pygments_lexer": "ipython3",
   "version": "3.10.0"
  }
 },
 "nbformat": 4,
 "nbformat_minor": 2
}
