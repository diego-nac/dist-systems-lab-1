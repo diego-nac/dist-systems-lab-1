{
 "cells": [
  {
   "cell_type": "code",
   "execution_count": 1,
   "metadata": {},
   "outputs": [],
   "source": [
    "from conn.connection import ConnectionManager"
   ]
  },
  {
   "cell_type": "code",
   "execution_count": 2,
   "metadata": {},
   "outputs": [],
   "source": [
    "from utils import *"
   ]
  },
  {
   "cell_type": "code",
   "execution_count": 3,
   "metadata": {},
   "outputs": [
    {
     "name": "stdout",
     "output_type": "stream",
     "text": [
      "20:51:29 SMART HOME/CONNECTION - ConnectionManager inicializado.\n",
      "IP local: 192.168.18.179\n",
      "IP do dispositivo (TCP): 192.168.18.189\n",
      "Multicast: 239.1.1.1:7000\n",
      "Porta TCP: 5006\n"
     ]
    }
   ],
   "source": [
    "con = ConnectionManager()"
   ]
  },
  {
   "cell_type": "code",
   "execution_count": 4,
   "metadata": {},
   "outputs": [],
   "source": [
    "def callback_fun(msg, add):\n",
    "    print(msg,add)"
   ]
  },
  {
   "cell_type": "code",
   "execution_count": 5,
   "metadata": {},
   "outputs": [
    {
     "name": "stdout",
     "output_type": "stream",
     "text": [
      "20:51:29 SMART HOME/CONNECTION - Erro no servidor 192.168.18.189:5006: [WinError 10049] O endereço solicitado não é válido no contexto\n",
      "20:51:29 SMART HOME/CONNECTION - Socket do servidor fechado.\n"
     ]
    }
   ],
   "source": [
    "con.start_tcp_server(callback_function=callback_fun)"
   ]
  }
 ],
 "metadata": {
  "kernelspec": {
   "display_name": "Python 3",
   "language": "python",
   "name": "python3"
  },
  "language_info": {
   "codemirror_mode": {
    "name": "ipython",
    "version": 3
   },
   "file_extension": ".py",
   "mimetype": "text/x-python",
   "name": "python",
   "nbconvert_exporter": "python",
   "pygments_lexer": "ipython3",
   "version": "3.10.0"
  }
 },
 "nbformat": 4,
 "nbformat_minor": 2
}
