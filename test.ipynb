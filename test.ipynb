{
 "cells": [
  {
   "cell_type": "code",
   "execution_count": 1,
   "metadata": {},
   "outputs": [],
   "source": [
    "from conn.connection import ConnectionManager"
   ]
  },
  {
   "cell_type": "code",
   "execution_count": 2,
   "metadata": {},
   "outputs": [],
   "source": [
    "from utils import *"
   ]
  },
  {
   "cell_type": "code",
   "execution_count": 3,
   "metadata": {},
   "outputs": [
    {
     "name": "stdout",
     "output_type": "stream",
     "text": [
      "20:51:29 SMART HOME/CONNECTION - ConnectionManager inicializado.\n",
      "IP local: 192.168.18.179\n",
      "IP do dispositivo (TCP): 192.168.18.189\n",
      "Multicast: 239.1.1.1:7000\n",
      "Porta TCP: 5006\n"
     ]
    }
   ],
   "source": [
    "con = ConnectionManager()"
   ]
  },
  {
   "cell_type": "code",
   "execution_count": 4,
   "metadata": {},
   "outputs": [],
   "source": [
    "def callback_fun(msg, add):\n",
    "    print(msg,add)"
   ]
  },
  {
   "cell_type": "code",
   "execution_count": 2,
   "metadata": {},
   "outputs": [
    {
     "ename": "ValueError",
     "evalue": "Não foi possível obter o IP local ou a máscara de rede.",
     "output_type": "error",
     "traceback": [
      "\u001b[0;31m---------------------------------------------------------------------------\u001b[0m",
      "\u001b[0;31mValueError\u001b[0m                                Traceback (most recent call last)",
      "Cell \u001b[0;32mIn[2], line 1\u001b[0m\n\u001b[0;32m----> 1\u001b[0m \u001b[38;5;28;01mfrom\u001b[39;00m\u001b[38;5;250m \u001b[39m\u001b[38;5;21;01mutils\u001b[39;00m\u001b[38;5;250m \u001b[39m\u001b[38;5;28;01mimport\u001b[39;00m ips\n",
      "File \u001b[0;32m/code/ufc/SD_Trabalho1/dist-systems-lab-1/utils/__init__.py:3\u001b[0m\n\u001b[1;32m      2\u001b[0m \u001b[38;5;28;01mfrom\u001b[39;00m\u001b[38;5;250m \u001b[39m\u001b[38;5;21;01m.\u001b[39;00m\u001b[38;5;21;01mLoggerConfig\u001b[39;00m\u001b[38;5;250m \u001b[39m\u001b[38;5;28;01mimport\u001b[39;00m LoggerConfig\n\u001b[0;32m----> 3\u001b[0m \u001b[38;5;28;01mfrom\u001b[39;00m\u001b[38;5;250m \u001b[39m\u001b[38;5;21;01m.\u001b[39;00m\u001b[38;5;21;01mconfigs\u001b[39;00m\u001b[38;5;250m \u001b[39m\u001b[38;5;28;01mimport\u001b[39;00m \u001b[38;5;241m*\u001b[39m\n\u001b[1;32m      5\u001b[0m logger \u001b[38;5;241m=\u001b[39m LoggerConfig(PROJECT_NAME)\u001b[38;5;241m.\u001b[39mget_logger()\n",
      "File \u001b[0;32m/code/ufc/SD_Trabalho1/dist-systems-lab-1/utils/configs.py:11\u001b[0m\n\u001b[1;32m      8\u001b[0m LOCAL_IP \u001b[38;5;241m=\u001b[39m get_local_ip()  \u001b[38;5;66;03m# IP dinâmico da máquina\u001b[39;00m\n\u001b[1;32m     10\u001b[0m \u001b[38;5;66;03m# Configurações específicas para dispositivos\u001b[39;00m\n\u001b[0;32m---> 11\u001b[0m CLIENT_IP \u001b[38;5;241m=\u001b[39m \u001b[43mgenerate_ip\u001b[49m\u001b[43m(\u001b[49m\u001b[38;5;241;43m1\u001b[39;49m\u001b[43m)\u001b[49m  \u001b[38;5;66;03m# IP privado do cliente\u001b[39;00m\n\u001b[1;32m     12\u001b[0m GATEWAY_IP \u001b[38;5;241m=\u001b[39m generate_ip(\u001b[38;5;241m2\u001b[39m)  \u001b[38;5;66;03m# IP privado do gateway\u001b[39;00m\n\u001b[1;32m     13\u001b[0m LAMP_IP \u001b[38;5;241m=\u001b[39m generate_ip(\u001b[38;5;241m3\u001b[39m)  \u001b[38;5;66;03m# IP privado da lâmpada\u001b[39;00m\n",
      "File \u001b[0;32m/code/ufc/SD_Trabalho1/dist-systems-lab-1/utils/ips.py:37\u001b[0m, in \u001b[0;36mgenerate_ip\u001b[0;34m(offset)\u001b[0m\n\u001b[1;32m     36\u001b[0m \u001b[38;5;28;01mdef\u001b[39;00m\u001b[38;5;250m \u001b[39m\u001b[38;5;21mgenerate_ip\u001b[39m(offset):\n\u001b[0;32m---> 37\u001b[0m     available_ips \u001b[38;5;241m=\u001b[39m \u001b[43mlist_ips\u001b[49m\u001b[43m(\u001b[49m\u001b[43m)\u001b[49m\n\u001b[1;32m     38\u001b[0m     \u001b[38;5;28;01mif\u001b[39;00m offset \u001b[38;5;241m<\u001b[39m \u001b[38;5;241m0\u001b[39m \u001b[38;5;129;01mor\u001b[39;00m offset \u001b[38;5;241m>\u001b[39m\u001b[38;5;241m=\u001b[39m \u001b[38;5;28mlen\u001b[39m(available_ips):\n\u001b[1;32m     39\u001b[0m         \u001b[38;5;28;01mraise\u001b[39;00m \u001b[38;5;167;01mValueError\u001b[39;00m(\u001b[38;5;124mf\u001b[39m\u001b[38;5;124m\"\u001b[39m\u001b[38;5;124mO offset fornecido (\u001b[39m\u001b[38;5;132;01m{\u001b[39;00moffset\u001b[38;5;132;01m}\u001b[39;00m\u001b[38;5;124m) está fora do intervalo da rede.\u001b[39m\u001b[38;5;124m\"\u001b[39m)\n",
      "File \u001b[0;32m/code/ufc/SD_Trabalho1/dist-systems-lab-1/utils/ips.py:31\u001b[0m, in \u001b[0;36mlist_ips\u001b[0;34m()\u001b[0m\n\u001b[1;32m     29\u001b[0m local_ip, subnet_mask \u001b[38;5;241m=\u001b[39m get_local_ip_and_subnet_mask()\n\u001b[1;32m     30\u001b[0m \u001b[38;5;28;01mif\u001b[39;00m \u001b[38;5;129;01mnot\u001b[39;00m local_ip \u001b[38;5;129;01mor\u001b[39;00m \u001b[38;5;129;01mnot\u001b[39;00m subnet_mask:\n\u001b[0;32m---> 31\u001b[0m     \u001b[38;5;28;01mraise\u001b[39;00m \u001b[38;5;167;01mValueError\u001b[39;00m(\u001b[38;5;124m\"\u001b[39m\u001b[38;5;124mNão foi possível obter o IP local ou a máscara de rede.\u001b[39m\u001b[38;5;124m\"\u001b[39m)\n\u001b[1;32m     32\u001b[0m network \u001b[38;5;241m=\u001b[39m ipaddress\u001b[38;5;241m.\u001b[39mIPv4Network(\u001b[38;5;124mf\u001b[39m\u001b[38;5;124m\"\u001b[39m\u001b[38;5;132;01m{\u001b[39;00mlocal_ip\u001b[38;5;132;01m}\u001b[39;00m\u001b[38;5;124m/\u001b[39m\u001b[38;5;132;01m{\u001b[39;00msubnet_mask\u001b[38;5;132;01m}\u001b[39;00m\u001b[38;5;124m\"\u001b[39m, strict\u001b[38;5;241m=\u001b[39m\u001b[38;5;28;01mFalse\u001b[39;00m)\n\u001b[1;32m     33\u001b[0m hosts \u001b[38;5;241m=\u001b[39m \u001b[38;5;28mlist\u001b[39m(network\u001b[38;5;241m.\u001b[39mhosts())\n",
      "\u001b[0;31mValueError\u001b[0m: Não foi possível obter o IP local ou a máscara de rede."
     ]
    }
   ],
   "source": []
  },
  {
   "cell_type": "code",
   "execution_count": 24,
   "metadata": {},
   "outputs": [],
   "source": [
    "import ipaddress\n",
    "import subprocess\n",
    "import platform\n",
    "from socket import inet_aton, error, AF_INET\n",
    "from psutil import net_if_addrs\n",
    "import random\n",
    "\n",
    "from socket import socket, AF_INET, SOCK_DGRAM\n",
    "def get_local_ip():\n",
    "    with socket(AF_INET, SOCK_DGRAM) as s:\n",
    "        try:\n",
    "            s.connect((\"8.8.8.8\", 80))\n",
    "            return s.getsockname()[0]\n",
    "        except Exception:\n",
    "            return \"127.0.0.1\" \n",
    "\n",
    "def get_local_ip_and_subnet_mask():\n",
    "    local_ip = get_local_ip()\n",
    "    for _, addrs in net_if_addrs().items():\n",
    "        for addr in addrs:\n",
    "            if addr.family == AF_INET and addr.address == local_ip:\n",
    "                return local_ip, addr.netmask\n",
    "    return None, None\n",
    "\n",
    "def is_ip_valid(ip):\n",
    "    try:\n",
    "        inet_aton(ip)\n",
    "        param = \"-n\" if platform.system().lower() == \"windows\" else \"-c\"\n",
    "        command = [\"ping\", param, \"1\", ip]\n",
    "        return subprocess.call(command, stdout=subprocess.DEVNULL, stderr=subprocess.DEVNULL) == 0\n",
    "    except error:\n",
    "        return False\n",
    "\n",
    "def list_ips():\n",
    "    local_ip, subnet_mask = get_local_ip_and_subnet_mask()\n",
    "    if not local_ip or not subnet_mask:\n",
    "        raise ValueError(\"Não foi possível obter o IP local ou a máscara de rede.\")\n",
    "    network = ipaddress.IPv4Network(f\"{local_ip}/{subnet_mask}\", strict=False)\n",
    "    hosts = list(network.hosts())\n",
    "    return [str(host) for host in hosts]\n",
    "\n",
    "def generate_ip(offset):\n",
    "    available_ips = list_ips()\n",
    "    if offset < 0 or offset >= len(available_ips):\n",
    "        raise ValueError(f\"O offset fornecido ({offset}) está fora do intervalo da rede.\")\n",
    "    for i in range(offset, len(available_ips)):\n",
    "        candidate_ip = available_ips[i]\n",
    "        if is_ip_valid(candidate_ip):\n",
    "            return candidate_ip\n",
    "    raise ValueError(\"Não foi possível encontrar um IP válido e não utilizado na rede.\")\n",
    "\n",
    "\n",
    "def generate_multicast_group():\n",
    "    return f\"239.{random.randint(0, 255)}.{random.randint(0, 255)}.{random.randint(1, 254)}\"\n"
   ]
  },
  {
   "cell_type": "code",
   "execution_count": 31,
   "metadata": {},
   "outputs": [
    {
     "name": "stdout",
     "output_type": "stream",
     "text": [
      "Interface de rede encontrada: wlp0s20f3\n",
      "IP 192.168.1.5 atribuído com sucesso à interface wlp0s20f3.\n",
      "[TCP] Servidor escutando em 192.168.1.5:5006\n"
     ]
    },
    {
     "ename": "KeyboardInterrupt",
     "evalue": "",
     "output_type": "error",
     "traceback": [
      "\u001b[0;31m---------------------------------------------------------------------------\u001b[0m",
      "\u001b[0;31mKeyboardInterrupt\u001b[0m                         Traceback (most recent call last)",
      "Cell \u001b[0;32mIn[31], line 101\u001b[0m\n\u001b[1;32m     98\u001b[0m device_port \u001b[38;5;241m=\u001b[39m \u001b[38;5;241m5006\u001b[39m\n\u001b[1;32m    100\u001b[0m \u001b[38;5;66;03m# Inicia o servidor TCP\u001b[39;00m\n\u001b[0;32m--> 101\u001b[0m \u001b[43mstart_tcp_server\u001b[49m\u001b[43m(\u001b[49m\u001b[43mdevice_ip\u001b[49m\u001b[43m,\u001b[49m\u001b[43m \u001b[49m\u001b[43mdevice_port\u001b[49m\u001b[43m)\u001b[49m\n",
      "Cell \u001b[0;32mIn[31], line 84\u001b[0m, in \u001b[0;36mstart_tcp_server\u001b[0;34m(ip, port)\u001b[0m\n\u001b[1;32m     81\u001b[0m \u001b[38;5;28mprint\u001b[39m(\u001b[38;5;124mf\u001b[39m\u001b[38;5;124m\"\u001b[39m\u001b[38;5;124m[TCP] Servidor escutando em \u001b[39m\u001b[38;5;132;01m{\u001b[39;00mip\u001b[38;5;132;01m}\u001b[39;00m\u001b[38;5;124m:\u001b[39m\u001b[38;5;132;01m{\u001b[39;00mport\u001b[38;5;132;01m}\u001b[39;00m\u001b[38;5;124m\"\u001b[39m)\n\u001b[1;32m     83\u001b[0m \u001b[38;5;28;01mwhile\u001b[39;00m \u001b[38;5;28;01mTrue\u001b[39;00m:\n\u001b[0;32m---> 84\u001b[0m     client_socket, client_address \u001b[38;5;241m=\u001b[39m \u001b[43mserver_socket\u001b[49m\u001b[38;5;241;43m.\u001b[39;49m\u001b[43maccept\u001b[49m\u001b[43m(\u001b[49m\u001b[43m)\u001b[49m\n\u001b[1;32m     85\u001b[0m     \u001b[38;5;28mprint\u001b[39m(\u001b[38;5;124mf\u001b[39m\u001b[38;5;124m\"\u001b[39m\u001b[38;5;124m[TCP] Conexão estabelecida com \u001b[39m\u001b[38;5;132;01m{\u001b[39;00mclient_address\u001b[38;5;132;01m}\u001b[39;00m\u001b[38;5;124m\"\u001b[39m)\n\u001b[1;32m     86\u001b[0m     data \u001b[38;5;241m=\u001b[39m client_socket\u001b[38;5;241m.\u001b[39mrecv(\u001b[38;5;241m1024\u001b[39m)\n",
      "File \u001b[0;32m/usr/lib/python3.12/socket.py:295\u001b[0m, in \u001b[0;36msocket.accept\u001b[0;34m(self)\u001b[0m\n\u001b[1;32m    288\u001b[0m \u001b[38;5;28;01mdef\u001b[39;00m\u001b[38;5;250m \u001b[39m\u001b[38;5;21maccept\u001b[39m(\u001b[38;5;28mself\u001b[39m):\n\u001b[1;32m    289\u001b[0m \u001b[38;5;250m    \u001b[39m\u001b[38;5;124;03m\"\"\"accept() -> (socket object, address info)\u001b[39;00m\n\u001b[1;32m    290\u001b[0m \n\u001b[1;32m    291\u001b[0m \u001b[38;5;124;03m    Wait for an incoming connection.  Return a new socket\u001b[39;00m\n\u001b[1;32m    292\u001b[0m \u001b[38;5;124;03m    representing the connection, and the address of the client.\u001b[39;00m\n\u001b[1;32m    293\u001b[0m \u001b[38;5;124;03m    For IP sockets, the address info is a pair (hostaddr, port).\u001b[39;00m\n\u001b[1;32m    294\u001b[0m \u001b[38;5;124;03m    \"\"\"\u001b[39;00m\n\u001b[0;32m--> 295\u001b[0m     fd, addr \u001b[38;5;241m=\u001b[39m \u001b[38;5;28;43mself\u001b[39;49m\u001b[38;5;241;43m.\u001b[39;49m\u001b[43m_accept\u001b[49m\u001b[43m(\u001b[49m\u001b[43m)\u001b[49m\n\u001b[1;32m    296\u001b[0m     sock \u001b[38;5;241m=\u001b[39m socket(\u001b[38;5;28mself\u001b[39m\u001b[38;5;241m.\u001b[39mfamily, \u001b[38;5;28mself\u001b[39m\u001b[38;5;241m.\u001b[39mtype, \u001b[38;5;28mself\u001b[39m\u001b[38;5;241m.\u001b[39mproto, fileno\u001b[38;5;241m=\u001b[39mfd)\n\u001b[1;32m    297\u001b[0m     \u001b[38;5;66;03m# Issue #7995: if no default timeout is set and the listening\u001b[39;00m\n\u001b[1;32m    298\u001b[0m     \u001b[38;5;66;03m# socket had a (non-zero) timeout, force the new socket in blocking\u001b[39;00m\n\u001b[1;32m    299\u001b[0m     \u001b[38;5;66;03m# mode to override platform-specific socket flags inheritance.\u001b[39;00m\n",
      "\u001b[0;31mKeyboardInterrupt\u001b[0m: "
     ]
    }
   ],
   "source": [
    "import psutil\n",
    "import subprocess\n",
    "import platform\n",
    "import socket\n",
    "\n",
    "\n",
    "def is_ip_configured(ip: str) -> bool:\n",
    "    \"\"\"\n",
    "    Verifica se o IP fornecido está configurado em alguma interface de rede local.\n",
    "    \"\"\"\n",
    "    for iface, addrs in psutil.net_if_addrs().items():\n",
    "        for addr in addrs:\n",
    "            if addr.family == socket.AF_INET and addr.address == ip:\n",
    "                return True\n",
    "    return False\n",
    "\n",
    "\n",
    "def get_network_interface(subnet: str = \"192.168.1.\") -> str:\n",
    "    \"\"\"\n",
    "    Retorna a interface de rede associada a uma sub-rede específica.\n",
    "    \"\"\"\n",
    "    for iface, addrs in psutil.net_if_addrs().items():\n",
    "        for addr in addrs:\n",
    "            if addr.family == socket.AF_INET and addr.address.startswith(subnet):\n",
    "                return iface\n",
    "    raise RuntimeError(f\"Nenhuma interface encontrada na sub-rede {subnet}\")\n",
    "\n",
    "\n",
    "def configure_ip(ip: str) -> None:\n",
    "    \"\"\"\n",
    "    Verifica e configura o IP na interface de rede apropriada.\n",
    "    Funciona para sistemas Ubuntu e Windows.\n",
    "    \"\"\"\n",
    "    if is_ip_configured(ip):\n",
    "        print(f\"O IP {ip} já está configurado.\")\n",
    "        return\n",
    "\n",
    "    system = platform.system().lower()\n",
    "    try:\n",
    "        if system == \"linux\":\n",
    "            # Ubuntu ou distribuições baseadas em Linux\n",
    "            interface = get_network_interface()\n",
    "            print(f\"Interface de rede encontrada: {interface}\")\n",
    "            command = [\"sudo\", \"ip\", \"addr\", \"add\", f\"{ip}/24\", \"dev\", interface]\n",
    "            subprocess.run(command, check=True)\n",
    "            print(f\"IP {ip} atribuído com sucesso à interface {interface}.\")\n",
    "\n",
    "        elif system == \"windows\":\n",
    "            # Configuração para Windows usando netsh\n",
    "            interface = get_network_interface()\n",
    "            command = [\n",
    "                \"netsh\", \"interface\", \"ip\", \"add\", \"address\", interface, ip, \"255.255.255.0\"\n",
    "            ]\n",
    "            subprocess.run(command, check=True)\n",
    "            print(f\"IP {ip} atribuído com sucesso à interface {interface}.\")\n",
    "\n",
    "        else:\n",
    "            raise NotImplementedError(f\"Sistema operacional não suportado: {system}\")\n",
    "\n",
    "    except subprocess.CalledProcessError as e:\n",
    "        print(f\"Erro ao atribuir o IP {ip}: {e}\")\n",
    "    except RuntimeError as e:\n",
    "        print(f\"Erro: {e}\")\n",
    "    except NotImplementedError as e:\n",
    "        print(f\"Erro: {e}\")\n",
    "\n",
    "\n",
    "def start_tcp_server(ip: str, port: int):\n",
    "    \"\"\"\n",
    "    Configura um servidor TCP no IP e porta especificados.\n",
    "    \"\"\"\n",
    "    try:\n",
    "        # Verifica e configura o IP antes de criar o socket\n",
    "        configure_ip(ip)\n",
    "\n",
    "        # Inicia o socket TCP\n",
    "        server_socket = socket.socket(socket.AF_INET, socket.SOCK_STREAM)\n",
    "        server_socket.setsockopt(socket.SOL_SOCKET, socket.SO_REUSEADDR, 1)\n",
    "        server_socket.bind((ip, port))\n",
    "        server_socket.listen(5)\n",
    "        print(f\"[TCP] Servidor escutando em {ip}:{port}\")\n",
    "\n",
    "        while True:\n",
    "            client_socket, client_address = server_socket.accept()\n",
    "            print(f\"[TCP] Conexão estabelecida com {client_address}\")\n",
    "            data = client_socket.recv(1024)\n",
    "            if data:\n",
    "                print(f\"[TCP] Dados recebidos: {data}\")\n",
    "            client_socket.close()\n",
    "\n",
    "    except Exception as e:\n",
    "        print(f\"[TCP] Erro na configuração do servidor TCP: {e}\")\n",
    "\n",
    "\n",
    "if __name__ == \"__main__\":\n",
    "    # Configuração do IP e porta\n",
    "    device_ip = \"192.168.1.5\"\n",
    "    device_port = 5006\n",
    "\n",
    "    # Inicia o servidor TCP\n",
    "    start_tcp_server(device_ip, device_port)\n"
   ]
  },
  {
   "cell_type": "code",
   "execution_count": 17,
   "metadata": {},
   "outputs": [],
   "source": [
    "\n",
    "def get_local_ip_and_subnet_mask():\n",
    "    local_ip = get_local_ip()\n",
    "    for iface, addrs in net_if_addrs().items():\n",
    "        for addr in addrs:\n",
    "            print(addr.address, addr.netmask)\n",
    "            if addr.family == AF_INET:\n",
    "                # Usa 'addr.address' diretamente para comparar se é o IP local\n",
    "                if addr.address == local_ip:\n",
    "                    return addr.address, addr.netmask\n",
    "    return None, None\n"
   ]
  },
  {
   "cell_type": "code",
   "execution_count": 16,
   "metadata": {},
   "outputs": [],
   "source": [
    "\n",
    "def get_local_ip_and_subnet_mask():\n",
    "    local_ip = get_local_ip()\n",
    "    for iface, addrs in net_if_addrs().items():\n",
    "        for addr in addrs:\n",
    "            if addr.family == AF_INET and addr.address == local_ip:\n",
    "                return addr.address, addr.netmask\n",
    "    return None, None"
   ]
  },
  {
   "cell_type": "code",
   "execution_count": 26,
   "metadata": {},
   "outputs": [
    {
     "data": {
      "text/plain": [
       "('192.168.1.106', '255.255.255.0')"
      ]
     },
     "execution_count": 26,
     "metadata": {},
     "output_type": "execute_result"
    }
   ],
   "source": [
    "get_local_ip_and_subnet_mask()"
   ]
  },
  {
   "cell_type": "code",
   "execution_count": 23,
   "metadata": {},
   "outputs": [],
   "source": [
    "\n",
    "from socket import socket, AF_INET, SOCK_DGRAM\n",
    "def get_local_ip():\n",
    "    with socket(AF_INET, SOCK_DGRAM) as s:\n",
    "        try:\n",
    "            s.connect((\"8.8.8.8\", 80))\n",
    "            return s.getsockname()[0]\n",
    "        except Exception:\n",
    "            return \"127.0.0.1\" "
   ]
  },
  {
   "cell_type": "code",
   "execution_count": 34,
   "metadata": {},
   "outputs": [],
   "source": [
    "import ipaddress\n",
    "import subprocess\n",
    "import platform\n",
    "from socket import inet_aton, error, AF_INET, socket, SOCK_DGRAM\n",
    "from psutil import net_if_addrs\n",
    "import random\n",
    "from utils.LoggerConfig import LoggerConfig\n",
    "\n",
    "\n",
    "\n",
    "\n",
    "logger = LoggerConfig(\"IPConfig\").get_logger()\n",
    "\n",
    "def get_local_ip():\n",
    "    with socket(AF_INET, SOCK_DGRAM) as s:\n",
    "        try:\n",
    "            s.connect((\"8.8.8.8\", 80))\n",
    "            return s.getsockname()[0]\n",
    "        except Exception:\n",
    "            return \"127.0.0.1\" \n",
    "\n",
    "\n",
    "def get_local_ip_and_subnet_mask():\n",
    "    logger.debug(\"Obtendo IP local e máscara de rede...\")\n",
    "    local_ip = get_local_ip()\n",
    "    for _, addrs in net_if_addrs().items():\n",
    "        for addr in addrs:\n",
    "            if addr.family == AF_INET and addr.address == local_ip:\n",
    "                logger.debug(f\"IP local e máscara de rede obtidos: {local_ip}, {addr.netmask}\")\n",
    "                return local_ip, addr.netmask\n",
    "    return None, None\n",
    "\n",
    "def is_ip_valid(ip):\n",
    "    logger.debug(f\"Verificando se o IP {ip} é válido...\")\n",
    "    try:\n",
    "        inet_aton(ip)\n",
    "        param = \"-n\" if platform.system().lower() == \"windows\" else \"-c\"\n",
    "        command = [\"ping\", param, \"1\", ip]\n",
    "        return subprocess.call(command, stdout=subprocess.DEVNULL, stderr=subprocess.DEVNULL) != 0\n",
    "    except error:\n",
    "        return False\n",
    "\n",
    "def list_ips():\n",
    "    local_ip, subnet_mask = get_local_ip_and_subnet_mask()\n",
    "    if not local_ip or not subnet_mask:\n",
    "        raise ValueError(\"Não foi possível obter o IP local ou a máscara de rede.\")\n",
    "    network = ipaddress.IPv4Network(f\"{local_ip}/{subnet_mask}\", strict=False)\n",
    "    hosts = list(network.hosts())\n",
    "    return [str(host) for host in hosts]\n",
    "\n",
    "def generate_ip(offset):\n",
    "    logger.debug(f\"Gerando IP com offset {offset}...\")\n",
    "    available_ips = list_ips()  \n",
    "    if offset < 0 or offset >= len(available_ips):\n",
    "        raise ValueError(f\"O offset fornecido ({offset}) está fora do intervalo da rede.\")\n",
    "    for i in range(offset, len(available_ips)):\n",
    "        candidate_ip = available_ips[i]\n",
    "        if is_ip_valid(candidate_ip):  \n",
    "            logger.debug(f\"IP livre encontrado: {candidate_ip}\")\n",
    "            if configure_ip(candidate_ip):\n",
    "                return candidate_ip\n",
    "    raise ValueError(\"Não foi possível encontrar um IP livre na rede.\")\n",
    "\n",
    "def generate_valid_ips(count):\n",
    "    try:\n",
    "        logger.debug(f\"Gerando até {count} IPs válidos configurados...\")\n",
    "        available_ips = list_ips()\n",
    "        valid_ips = []\n",
    "\n",
    "        for ip in available_ips:\n",
    "            if len(valid_ips) >= count:\n",
    "                break\n",
    "            if is_ip_valid(ip) and configure_ip(ip):\n",
    "                valid_ips.append(ip)\n",
    "                logger.debug(f\"IP configurado: {ip}\")\n",
    "\n",
    "        if len(valid_ips) < count:\n",
    "            raise ValueError(f\"Não foi possível gerar a quantidade necessária de IPs ({count}).\")\n",
    "\n",
    "        return valid_ips\n",
    "    except Exception as e:\n",
    "        logger.error(f\"Erro ao gerar IPs válidos configurados: {e}\")\n",
    "        return []\n",
    "\n",
    "\n",
    "\n",
    "def generate_multicast_group():\n",
    "    return f\"239.{random.randint(0, 255)}.{random.randint(0, 255)}.{random.randint(1, 254)}\"\n",
    "\n",
    "\n",
    "\n",
    "\n",
    "def is_ip_configured(ip: str) -> bool:\n",
    "    try:\n",
    "        for _, addrs in net_if_addrs().items():\n",
    "            for addr in addrs:\n",
    "                if addr.family == AF_INET and addr.address == ip:\n",
    "                    return True\n",
    "        return False\n",
    "    except Exception as e:\n",
    "        logger.error(f\"Erro ao verificar se o IP {ip} está configurado: {e}\")\n",
    "        return False\n",
    "\n",
    "def get_network_interface(subnet: str = \"192.168.1.\") -> str:\n",
    "    try:\n",
    "        for iface, addrs in net_if_addrs().items():\n",
    "            for addr in addrs:\n",
    "                if addr.family == AF_INET and addr.address.startswith(subnet):\n",
    "                    return iface\n",
    "        raise RuntimeError(f\"Nenhuma interface encontrada na sub-rede {subnet}\")\n",
    "    except Exception as e:\n",
    "        logger.error(f\"Erro ao buscar a interface de rede para a sub-rede {subnet}: {e}\")\n",
    "        raise\n",
    "\n",
    "def configure_ip(ip: str) -> None:\n",
    "    try:\n",
    "        if is_ip_configured(ip):\n",
    "            logger.debug(f\"O IP {ip} já está configurado.\")\n",
    "            return True\n",
    "\n",
    "        system = platform.system().lower()\n",
    "\n",
    "        if system == \"linux\":\n",
    "            interface = get_network_interface()\n",
    "            command = [\"sudo\", \"ip\", \"addr\", \"add\", f\"{ip}/24\", \"dev\", interface]\n",
    "            subprocess.run(command, check=True)\n",
    "            logger.debug(f\"IP {ip} atribuído com sucesso à interface {interface}.\")\n",
    "            return True\n",
    "\n",
    "        elif system == \"windows\":\n",
    "            interface = get_network_interface()\n",
    "            command = [\n",
    "                \"netsh\", \"interface\", \"ip\", \"add\", \"address\", interface, ip, \"255.255.255.0\"\n",
    "            ]\n",
    "            subprocess.run(command, check=True)\n",
    "            logger.debug(f\"IP {ip} atribuído com sucesso à interface {interface}.\")\n",
    "            return True\n",
    "\n",
    "        else:\n",
    "            raise NotImplementedError(f\"Sistema operacional não suportado: {system}\")\n",
    "    except subprocess.CalledProcessError as e:\n",
    "        logger.error(f\"Erro ao executar o comando para atribuir o IP {ip}: {e}\")\n",
    "    except Exception as e:\n",
    "        logger.error(f\"Erro geral ao configurar o IP {ip}: {e}\")\n",
    "        return False"
   ]
  },
  {
   "cell_type": "code",
   "execution_count": 35,
   "metadata": {},
   "outputs": [
    {
     "name": "stdout",
     "output_type": "stream",
     "text": [
      "11:28:27 IPCONFIG/2604661836 - Gerando até 5 IPs válidos configurados...\n",
      "11:28:27 IPCONFIG/2604661836 - Obtendo IP local e máscara de rede...\n",
      "11:28:27 IPCONFIG/2604661836 - IP local e máscara de rede obtidos: 192.168.1.106, 255.255.255.0\n",
      "11:28:27 IPCONFIG/2604661836 - Verificando se o IP 192.168.1.1 é válido...\n",
      "11:28:27 IPCONFIG/2604661836 - Verificando se o IP 192.168.1.2 é válido...\n",
      "11:28:27 IPCONFIG/2604661836 - Verificando se o IP 192.168.1.3 é válido...\n",
      "11:28:27 IPCONFIG/2604661836 - Verificando se o IP 192.168.1.4 é válido...\n",
      "11:28:27 IPCONFIG/2604661836 - Verificando se o IP 192.168.1.5 é válido...\n",
      "11:28:27 IPCONFIG/2604661836 - Verificando se o IP 192.168.1.6 é válido...\n",
      "11:28:27 IPCONFIG/2604661836 - Verificando se o IP 192.168.1.7 é válido...\n",
      "11:28:27 IPCONFIG/2604661836 - Verificando se o IP 192.168.1.8 é válido...\n",
      "11:28:30 IPCONFIG/2604661836 - IP 192.168.1.8 atribuído com sucesso à interface wlp0s20f3.\n",
      "11:28:30 IPCONFIG/2604661836 - IP configurado: 192.168.1.8\n",
      "11:28:30 IPCONFIG/2604661836 - Verificando se o IP 192.168.1.9 é válido...\n",
      "11:28:33 IPCONFIG/2604661836 - IP 192.168.1.9 atribuído com sucesso à interface wlp0s20f3.\n",
      "11:28:33 IPCONFIG/2604661836 - IP configurado: 192.168.1.9\n",
      "11:28:33 IPCONFIG/2604661836 - Verificando se o IP 192.168.1.10 é válido...\n",
      "11:28:36 IPCONFIG/2604661836 - IP 192.168.1.10 atribuído com sucesso à interface wlp0s20f3.\n",
      "11:28:36 IPCONFIG/2604661836 - IP configurado: 192.168.1.10\n",
      "11:28:36 IPCONFIG/2604661836 - Verificando se o IP 192.168.1.11 é válido...\n",
      "11:28:40 IPCONFIG/2604661836 - IP 192.168.1.11 atribuído com sucesso à interface wlp0s20f3.\n",
      "11:28:40 IPCONFIG/2604661836 - IP configurado: 192.168.1.11\n",
      "11:28:40 IPCONFIG/2604661836 - Verificando se o IP 192.168.1.12 é válido...\n",
      "11:28:43 IPCONFIG/2604661836 - IP 192.168.1.12 atribuído com sucesso à interface wlp0s20f3.\n",
      "11:28:43 IPCONFIG/2604661836 - IP configurado: 192.168.1.12\n"
     ]
    },
    {
     "data": {
      "text/plain": [
       "['192.168.1.8', '192.168.1.9', '192.168.1.10', '192.168.1.11', '192.168.1.12']"
      ]
     },
     "execution_count": 35,
     "metadata": {},
     "output_type": "execute_result"
    }
   ],
   "source": [
    "generate_valid_ips(5)"
   ]
  },
  {
   "cell_type": "code",
   "execution_count": 22,
   "metadata": {},
   "outputs": [
    {
     "data": {
      "text/plain": [
       "'192.168.1.106'"
      ]
     },
     "execution_count": 22,
     "metadata": {},
     "output_type": "execute_result"
    }
   ],
   "source": [
    "get_local_ip()"
   ]
  },
  {
   "cell_type": "code",
   "execution_count": 36,
   "metadata": {},
   "outputs": [],
   "source": [
    "import json\n",
    "def import_ips_from_json(file_path):\n",
    "    try:\n",
    "        with open(file_path, 'r') as json_file:\n",
    "            ips = json.load(json_file)\n",
    "        logger.info(f\"IPs importados do arquivo JSON: {ips}\")\n",
    "        return ips\n",
    "    except FileNotFoundError:\n",
    "        logger.error(f\"Arquivo {file_path} não encontrado.\")\n",
    "        return []\n",
    "    except json.JSONDecodeError as e:\n",
    "        logger.error(f\"Erro ao decodificar o arquivo JSON: {e}\")\n",
    "        return []\n",
    "    except Exception as e:\n",
    "        logger.error(f\"Erro geral ao importar IPs do arquivo JSON: {e}\")\n",
    "        return []\n"
   ]
  },
  {
   "cell_type": "code",
   "execution_count": 37,
   "metadata": {},
   "outputs": [
    {
     "name": "stdout",
     "output_type": "stream",
     "text": [
      "11:48:02 IPCONFIG/1241428177 - IPs importados do arquivo JSON: ['192.168.1.13', '192.168.1.14', '192.168.1.15', '192.168.1.16', '192.168.1.17']\n"
     ]
    },
    {
     "data": {
      "text/plain": [
       "['192.168.1.13',\n",
       " '192.168.1.14',\n",
       " '192.168.1.15',\n",
       " '192.168.1.16',\n",
       " '192.168.1.17']"
      ]
     },
     "execution_count": 37,
     "metadata": {},
     "output_type": "execute_result"
    }
   ],
   "source": [
    "import_ips_from_json('data/devices_ips.json')"
   ]
  }
 ],
 "metadata": {
  "kernelspec": {
   "display_name": ".venv",
   "language": "python",
   "name": "python3"
  },
  "language_info": {
   "codemirror_mode": {
    "name": "ipython",
    "version": 3
   },
   "file_extension": ".py",
   "mimetype": "text/x-python",
   "name": "python",
   "nbconvert_exporter": "python",
   "pygments_lexer": "ipython3",
   "version": "3.12.3"
  }
 },
 "nbformat": 4,
 "nbformat_minor": 2
}
